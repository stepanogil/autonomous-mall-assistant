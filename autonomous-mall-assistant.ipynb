{
 "cells": [
  {
   "cell_type": "markdown",
   "metadata": {},
   "source": [
    "#### imports"
   ]
  },
  {
   "cell_type": "code",
   "execution_count": 36,
   "metadata": {},
   "outputs": [
    {
     "name": "stdout",
     "output_type": "stream",
     "text": [
      "Requirement already satisfied: python-dotenv in /home/stepanogil/ChatBotDev/use_cases/.venv_use_cases/lib/python3.10/site-packages (1.0.0)\n"
     ]
    }
   ],
   "source": [
    "!pip install python-dotenv"
   ]
  },
  {
   "cell_type": "code",
   "execution_count": 37,
   "metadata": {},
   "outputs": [],
   "source": [
    "import os\n",
    "import openai\n",
    "import pandas as pd\n",
    "import json\n",
    "from typing import List\n",
    "from pydantic import BaseModel, Field\n",
    "from langchain.utils.openai_functions import convert_pydantic_to_openai_function\n",
    "from typing import Optional\n",
    "from IPython.display import display, HTML\n",
    "from dotenv import load_dotenv\n",
    "\n",
    "load_dotenv()\n",
    "\n",
    "openai.api_key = os.getenv(\"OPENAI_API_KEY\") "
   ]
  },
  {
   "cell_type": "markdown",
   "metadata": {},
   "source": [
    "## Load Tool"
   ]
  },
  {
   "cell_type": "code",
   "execution_count": 38,
   "metadata": {},
   "outputs": [],
   "source": [
    "# load data frame\n",
    "df = pd.read_csv(\"stores.csv\")\n",
    "\n",
    "# function\n",
    "def search_store(store_name: str, retail_category: str):\n",
    "    \"\"\" Search for the store name and retail category in the data frame and return the row. \n",
    "    If the store name is not found, return alternatives. If the retail category is not found, return no results found.\"\"\"\n",
    "    # Convert arguments to lowercase\n",
    "    store_name = store_name.lower()\n",
    "    retail_category = retail_category.lower()\n",
    "\n",
    "    search_result = \"\"\n",
    "\n",
    "    filtered_stores = df[(df['store_name'] == store_name) & (df['retail_category'] == retail_category)]\n",
    "\n",
    "    # if store name and retail category are found\n",
    "    if not filtered_stores.empty:\n",
    "        store_info = filtered_stores[['store_name','location', 'running_promos']].to_dict(orient='records')[0]\n",
    "        search_result = f\"Store found: Name - {store_info['store_name']} Location - {store_info['location']}, Promos - {store_info['running_promos']}\"\n",
    "    # if not found, find alternatives\n",
    "    else:\n",
    "        # find stores with same category as retail_category arg\n",
    "        category_filtered_stores = df[df['retail_category'] == retail_category]\n",
    "        if not category_filtered_stores.empty:\n",
    "            alternatives = category_filtered_stores[['store_name', 'location', 'running_promos']].to_dict(orient='records')\n",
    "            alternative_stores_str = \", \".join([f\"{store['store_name']}: Location - {store['location']}, Promos - {store['running_promos']}\" for store in alternatives])\n",
    "            search_result = f\"We don't have this store, but here are alternatives: {alternative_stores_str}\"\n",
    "        else:\n",
    "            search_result = \"No results found\"\n",
    "\n",
    "    return search_result\n",
    "\n",
    "# function schema\n",
    "class RetrieveStoreAndCategory(BaseModel):\n",
    "    \"\"\"Retrieves information about the store name and retail category from the user content.\"\"\"\n",
    "    store_name: str = Field(description=\"name of the store\")\n",
    "    retail_category: str = Field(description=\"the category of the store. can be only ONE of the following: home, sports, clothing, food, kids, other\")"
   ]
  },
  {
   "cell_type": "code",
   "execution_count": 39,
   "metadata": {},
   "outputs": [],
   "source": [
    "\n",
    "def chat(query: str):\n",
    "    \"\"\"Chat with the autonomous mall assistant.\"\"\"\n",
    "    \n",
    "    system_message_routing = \"\"\"\"Don't make assumptions about what values to plug into functions. Ask for clarification if the user content is ambiguous.\"\"\"\n",
    "\n",
    "    system_message_assistant = \"\"\"You are a mall assistant for GO Shopping Mall. You are tasked to help customers find stores in the mall. If the store is not available, you should recommend alternatives. Use html syntax to format your messages. List items with bullet points and use emojis.\"\"\"\n",
    "    \n",
    "    # few shots prompt\n",
    "    few_shot_user = \"\"\"Hi, I'm looking for a Zara store. Do you have one?\"\"\"\n",
    "    few_shot_assistant = \"\"\"I'm sorry but we currently do not have a Zara store at GO Shopping Mall. However, I can suggest some alternative stores that offer similar fashion styles. \\n\\nHere are a few suggestions:\\n<ul>\\n  <li><b>Bench</b> 😊\\n      <ul>\\n      <li>Location: Ground Floor</li>\\n      <li>Promos: End of season sale - up to 50% off</li>\\n      </ul>\\n  </li>\\n  <li><b>H&M</b> 😊\\n      <ul>\\n      <li>Location: Ground Floor</li>\\n      <li>Promos: 20% off on selected denim</li>\\n      </ul>\\n  </li>\\n  <li><b>Penshoppe</b> 😊\\n      <ul>\\n      <li>Location: Ground Floor</li>\\n      <li>Promos: Buy 2 shirts, get 1 free</li>\\n      </ul>\\n  </li>\\n</ul>\\n\\nI hope this helps! Let me know if you need directions to any of these stores. 🛍️\"\"\"\n",
    "    \n",
    "    messages = [{\"role\": \"system\", \"content\": system_message_routing}, \n",
    "                {\"role\": \"user\", \"content\": query}]\n",
    "    \n",
    "    # routing\n",
    "    response_routing = openai.ChatCompletion.create(\n",
    "      model=\"gpt-4-0613\",\n",
    "      messages=messages,\n",
    "      functions=[convert_pydantic_to_openai_function(RetrieveStoreAndCategory)],\n",
    "      function_call={'name': 'RetrieveStoreAndCategory'},\n",
    "      temperature=0,\n",
    "      max_tokens=256\n",
    "    )\n",
    "    args = json.loads(response_routing[\"choices\"][0][\"message\"][\"function_call\"][\"arguments\"])\n",
    "    function_content = search_store(**args)\n",
    "    \n",
    "    messages = [{\"role\": \"system\", \"content\": system_message_assistant}, \n",
    "                {\"role\": \"user\", \"content\": few_shot_user},\n",
    "                {\"role\": \"assistant\", \"content\": few_shot_assistant},\n",
    "                {\"role\": \"user\", \"content\": query},\n",
    "                {\"role\": \"function\", \"name\": \"search_store\", \"content\": function_content}]\n",
    "    \n",
    "    # assistant\n",
    "    response_assistant = openai.ChatCompletion.create(\n",
    "      model=\"gpt-4-0613\",\n",
    "      messages=messages,\n",
    "      temperature=.7,\n",
    "      max_tokens=500  \n",
    "    )    \n",
    "    display(HTML(f\"<p><strong>CHATBOT:</strong> {response_assistant['choices'][0]['message']['content']}</p>\"))"
   ]
  },
  {
   "cell_type": "markdown",
   "metadata": {},
   "source": [
    "#### Offers alternatives if a store is not available."
   ]
  },
  {
   "cell_type": "code",
   "execution_count": 40,
   "metadata": {},
   "outputs": [
    {
     "data": {
      "text/html": [
       "<p><strong>CHATBOT:</strong> I'm sorry but we currently do not have a Uniqlo store at GO Shopping Mall. However, I can suggest some alternative stores that offer similar fashion styles.\n",
       "\n",
       "Here are a few suggestions:\n",
       "<ul>\n",
       "  <li><b>Bench</b> 😊\n",
       "      <ul>\n",
       "      <li>Location: Ground Floor</li>\n",
       "      <li>Promos: End of season sale - up to 50% off</li>\n",
       "      </ul>\n",
       "  </li>\n",
       "  <li><b>H&M</b> 😊\n",
       "      <ul>\n",
       "      <li>Location: Ground Floor</li>\n",
       "      <li>Promos: 20% off on selected denim</li>\n",
       "      </ul>\n",
       "  </li>\n",
       "  <li><b>Penshoppe</b> 😊\n",
       "      <ul>\n",
       "      <li>Location: Ground Floor</li>\n",
       "      <li>Promos: Buy 2 shirts, get 1 free</li>\n",
       "      </ul>\n",
       "  </li>\n",
       "</ul>\n",
       "\n",
       "I hope this helps! Let me know if you need directions to any of these stores. 🛍️</p>"
      ],
      "text/plain": [
       "<IPython.core.display.HTML object>"
      ]
     },
     "metadata": {},
     "output_type": "display_data"
    }
   ],
   "source": [
    "chat(\"where can i find uniqlo?\")"
   ]
  },
  {
   "cell_type": "code",
   "execution_count": 41,
   "metadata": {},
   "outputs": [
    {
     "data": {
      "text/html": [
       "<p><strong>CHATBOT:</strong> Sure, we have a <b>Nike</b> store in our mall! 😊\n",
       "\n",
       "Here are the details:\n",
       "<ul>\n",
       "  <li>Location: <b>2nd Floor</b></li>\n",
       "  <li>Promos: <b>Clearance sale - up to 40% off</b></li>\n",
       "</ul>\n",
       "\n",
       "Enjoy your shopping at <b>Nike</b>! 🛍️👟</p>"
      ],
      "text/plain": [
       "<IPython.core.display.HTML object>"
      ]
     },
     "metadata": {},
     "output_type": "display_data"
    }
   ],
   "source": [
    "chat(\"where can i find Nike?\")"
   ]
  },
  {
   "cell_type": "code",
   "execution_count": 42,
   "metadata": {},
   "outputs": [
    {
     "data": {
      "text/html": [
       "<p><strong>CHATBOT:</strong> Yes, we do have an Ace Hardware store at GO Shopping Mall. Here's the information you might need:\n",
       "\n",
       "<b>Ace Hardware</b> 🔧\n",
       "<ul>\n",
       "  <li>Location: 3rd Floor</li>\n",
       "  <li>Promos: 10% off on selected items</li>\n",
       "</ul>\n",
       "\n",
       "Let me know if you need directions to the store or any other assistance! 🛍️</p>"
      ],
      "text/plain": [
       "<IPython.core.display.HTML object>"
      ]
     },
     "metadata": {},
     "output_type": "display_data"
    }
   ],
   "source": [
    "chat(\"do you have an ace hardware?\")"
   ]
  },
  {
   "cell_type": "code",
   "execution_count": 43,
   "metadata": {},
   "outputs": [
    {
     "data": {
      "text/html": [
       "<p><strong>CHATBOT:</strong> Sure, we have a variety of dining options available. Here are a few suggestions:\n",
       "\n",
       "<ul>\n",
       "  <li><b>Fat Fook</b> 😋\n",
       "      <ul>\n",
       "      <li>Location: Ground Floor</li>\n",
       "      <li>Promos: Free dim sum for a meal worth Php500</li>\n",
       "      </ul>\n",
       "  </li>\n",
       "  <li><b>Jollibee</b> 🍔\n",
       "      <ul>\n",
       "      <li>Location: Ground Floor</li>\n",
       "      <li>Promos: Free drink with any combo meal</li>\n",
       "      </ul>\n",
       "  </li>\n",
       "  <li><b>McDonald's</b> 🍟\n",
       "      <ul>\n",
       "      <li>Location: Ground Floor</li>\n",
       "      <li>Promos: Free apple pie for orders over Php500</li>\n",
       "      </ul>\n",
       "  </li>\n",
       "</ul>\n",
       "\n",
       "Enjoy your meal! Let me know if you need directions to any of these restaurants. 🍽️</p>"
      ],
      "text/plain": [
       "<IPython.core.display.HTML object>"
      ]
     },
     "metadata": {},
     "output_type": "display_data"
    }
   ],
   "source": [
    "chat(\"where to eat?\")"
   ]
  },
  {
   "cell_type": "code",
   "execution_count": 44,
   "metadata": {},
   "outputs": [
    {
     "data": {
      "text/html": [
       "<p><strong>CHATBOT:</strong> I understand your craving for Chinese food! 😋 We may not have a specific Chinese restaurant you're looking for, but we do have some great options for you.\n",
       "\n",
       "Here are some of our Chinese food outlets:\n",
       "<ul>\n",
       "  <li><b>Fat Fook</b> 🥟\n",
       "      <ul>\n",
       "      <li>Location: Ground Floor</li>\n",
       "      <li>Promos: Free dimsum for meal worth Php500</li>\n",
       "      </ul>\n",
       "  </li>\n",
       "</ul>\n",
       "\n",
       "If you're open to other cuisines, we also have popular fast food chains:\n",
       "<ul>\n",
       "  <li><b>Jollibee</b> 🍗\n",
       "      <ul>\n",
       "      <li>Location: Ground Floor</li>\n",
       "      <li>Promos: Free drink with any combo meal</li>\n",
       "      </ul>\n",
       "  </li>\n",
       "  <li><b>McDonald's</b> 🍔\n",
       "      <ul>\n",
       "      <li>Location: Ground Floor</li>\n",
       "      <li>Promos: Free apple pie for orders over Php500</li>\n",
       "      </ul>\n",
       "  </li>\n",
       "</ul>\n",
       "\n",
       "I hope this helps and you enjoy your meal! 🍴</p>"
      ],
      "text/plain": [
       "<IPython.core.display.HTML object>"
      ]
     },
     "metadata": {},
     "output_type": "display_data"
    }
   ],
   "source": [
    "chat(\"im craving some chinese\")"
   ]
  },
  {
   "cell_type": "markdown",
   "metadata": {},
   "source": [
    "#### Multilingual"
   ]
  },
  {
   "cell_type": "code",
   "execution_count": 45,
   "metadata": {},
   "outputs": [
    {
     "data": {
      "text/html": [
       "<p><strong>CHATBOT:</strong> Marami po tayong stores dito sa GO Shopping Mall na nagbebenta ng mga damit. Narito po ang ilan sa mga ito:\n",
       "\n",
       "<ul>\n",
       "  <li><b>Bench</b> 😊\n",
       "      <ul>\n",
       "      <li>Lokasyon: Ground Floor</li>\n",
       "      <li>Promos: End of season sale - hanggang 50% off</li>\n",
       "      </ul>\n",
       "  </li>\n",
       "  <li><b>H&M</b> 😊\n",
       "      <ul>\n",
       "      <li>Lokasyon: Ground Floor</li>\n",
       "      <li>Promos: 20% off sa piling denim</li>\n",
       "      </ul>\n",
       "  </li>\n",
       "  <li><b>Penshoppe</b> 😊\n",
       "      <ul>\n",
       "      <li>Lokasyon: Ground Floor</li>\n",
       "      <li>Promos: Bumili ng 2 shirts, libre ang isa</li>\n",
       "      </ul>\n",
       "  </li>\n",
       "</ul>\n",
       "\n",
       "Sana po ay makatulong ito! Sabihin lang po kung kailangan niyo ng direksyon papunta sa alinman sa mga stores na ito. 🛍️</p>"
      ],
      "text/plain": [
       "<IPython.core.display.HTML object>"
      ]
     },
     "metadata": {},
     "output_type": "display_data"
    }
   ],
   "source": [
    "chat(\"san pwede bumili ng damit?\")"
   ]
  },
  {
   "cell_type": "code",
   "execution_count": 46,
   "metadata": {},
   "outputs": [
    {
     "data": {
      "text/html": [
       "<p><strong>CHATBOT:</strong> Absolutely, you can find a variety of items for your kids in our mall. Here are some stores that are dedicated to kids:\n",
       "\n",
       "<ul>\n",
       "  <li><b>Toys R Us</b> 🧸\n",
       "      <ul>\n",
       "      <li>Location: 5th Floor</li>\n",
       "      <li>Promos: 15% off on board games</li>\n",
       "      </ul>\n",
       "  </li>\n",
       "  <li><b>Kidz Station</b> 🎈\n",
       "      <ul>\n",
       "      <li>Location: 3rd Floor</li>\n",
       "      <li>Promos: Buy 1, get 1 free on selected items</li>\n",
       "      </ul>\n",
       "  </li>\n",
       "  <li><b>Mothercare</b> 👶\n",
       "      <ul>\n",
       "      <li>Location: 2nd Floor</li>\n",
       "      <li>Promos: 20% off on selected baby essentials</li>\n",
       "      </ul>\n",
       "  </li>\n",
       "</ul>\n",
       "\n",
       "These stores have everything from toys, clothes, board games to baby care essentials. I hope this helps you find the perfect items for your kids. 🛍️</p>"
      ],
      "text/plain": [
       "<IPython.core.display.HTML object>"
      ]
     },
     "metadata": {},
     "output_type": "display_data"
    }
   ],
   "source": [
    "chat(\"where can I buy something for my kids?\")"
   ]
  },
  {
   "cell_type": "code",
   "execution_count": 47,
   "metadata": {},
   "outputs": [
    {
     "data": {
      "text/html": [
       "<p><strong>CHATBOT:</strong> Yes, we do have an <b>Adidas</b> store here at the GO Shopping Mall. 😊\n",
       "\n",
       "Here are the details:\n",
       "<ul>\n",
       "  <li><b>Adidas</b> 👟\n",
       "      <ul>\n",
       "      <li>Location: 2nd Floor</li>\n",
       "      <li>Promos: Buy 1 get 1 on selected shoes</li>\n",
       "      </ul>\n",
       "  </li>\n",
       "</ul>\n",
       "\n",
       "Enjoy shopping! Let me know if you need directions or help with anything else. 🛍️</p>"
      ],
      "text/plain": [
       "<IPython.core.display.HTML object>"
      ]
     },
     "metadata": {},
     "output_type": "display_data"
    }
   ],
   "source": [
    "chat(\"meron ba dito Adidas?\")"
   ]
  }
 ],
 "metadata": {
  "kernelspec": {
   "display_name": ".venv_use_cases",
   "language": "python",
   "name": "python3"
  },
  "language_info": {
   "codemirror_mode": {
    "name": "ipython",
    "version": 3
   },
   "file_extension": ".py",
   "mimetype": "text/x-python",
   "name": "python",
   "nbconvert_exporter": "python",
   "pygments_lexer": "ipython3",
   "version": "3.10.12"
  }
 },
 "nbformat": 4,
 "nbformat_minor": 2
}
