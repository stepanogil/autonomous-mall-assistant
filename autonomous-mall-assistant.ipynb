{
 "cells": [
  {
   "cell_type": "markdown",
   "metadata": {},
   "source": [
    "#### imports"
   ]
  },
  {
   "cell_type": "code",
   "execution_count": 108,
   "metadata": {},
   "outputs": [],
   "source": [
    "import os\n",
    "import openai\n",
    "import pandas as pd\n",
    "import json\n",
    "from typing import List\n",
    "from pydantic import BaseModel, Field\n",
    "from langchain.utils.openai_functions import convert_pydantic_to_openai_function\n",
    "from typing import Optional\n",
    "from IPython.display import display, HTML\n",
    "\n",
    "\n",
    "openai.api_key = os.getenv(\"OPENAI_API_KEY\") "
   ]
  },
  {
   "cell_type": "markdown",
   "metadata": {},
   "source": [
    "## Load Tool"
   ]
  },
  {
   "cell_type": "code",
   "execution_count": 109,
   "metadata": {},
   "outputs": [],
   "source": [
    "# load data frame\n",
    "df = pd.read_csv(\"stores.csv\")\n",
    "\n",
    "# function\n",
    "def search_store(store_name: str, retail_category: str):\n",
    "    \"\"\" Search for the store name and retail category in the data frame and return the row. \n",
    "    If the store name is not found, return alternatives. If the retail category is not found, return no results found.\"\"\"\n",
    "    # Convert arguments to lowercase\n",
    "    store_name = store_name.lower()\n",
    "    retail_category = retail_category.lower()\n",
    "\n",
    "    search_result = \"\"\n",
    "\n",
    "    filtered_stores = df[(df['store_name'] == store_name) & (df['retail_category'] == retail_category)]\n",
    "\n",
    "    # if store name and retail category are found\n",
    "    if not filtered_stores.empty:\n",
    "        store_info = filtered_stores[['store_name','location', 'running_promos']].to_dict(orient='records')[0]\n",
    "        search_result = f\"Store found: Name - {store_info['store_name']} Location - {store_info['location']}, Promos - {store_info['running_promos']}\"\n",
    "    # if not found, find alternatives\n",
    "    else:\n",
    "        # find stores with same category as retail_category arg\n",
    "        category_filtered_stores = df[df['retail_category'] == retail_category]\n",
    "        if not category_filtered_stores.empty:\n",
    "            alternatives = category_filtered_stores[['store_name', 'location', 'running_promos']].to_dict(orient='records')\n",
    "            alternative_stores_str = \", \".join([f\"{store['store_name']}: Location - {store['location']}, Promos - {store['running_promos']}\" for store in alternatives])\n",
    "            search_result = f\"We don't have this store, but here are alternatives: {alternative_stores_str}\"\n",
    "        else:\n",
    "            search_result = \"No results found\"\n",
    "\n",
    "    return search_result\n",
    "\n",
    "# function schema\n",
    "class RetrieveStoreAndCategory(BaseModel):\n",
    "    \"\"\"Retrieves information about the store name and retail category from the user content.\"\"\"\n",
    "    store_name: str = Field(description=\"name of the store\")\n",
    "    retail_category: str = Field(description=\"the category of the store. can be only ONE of the following: home, sports, clothing, food, kids, other\")"
   ]
  },
  {
   "cell_type": "code",
   "execution_count": 110,
   "metadata": {},
   "outputs": [],
   "source": [
    "\n",
    "def chat(query: str):\n",
    "    \"\"\"Chat with the autonomous mall assistant.\"\"\"\n",
    "    \n",
    "    system_message_routing = \"\"\"\"Don't make assumptions about what values to plug into functions. Ask for clarification if the user content is ambiguous.\"\"\"\n",
    "\n",
    "    system_message_assistant = \"\"\"You are a mall assistant for GO Shopping Mall. You are tasked to help customers find stores in the mall. If the store is not available, you should recommend alternatives. Use html syntax to format your messages. List items with bullet points and use emojis.\"\"\"\n",
    "    \n",
    "    messages = [{\"role\": \"system\", \"content\": system_message_routing}, \n",
    "                {\"role\": \"user\", \"content\": query}]\n",
    "    \n",
    "    # routing\n",
    "    response_routing = openai.ChatCompletion.create(\n",
    "      model=\"gpt-4-0613\",\n",
    "      messages=messages,\n",
    "      functions=[convert_pydantic_to_openai_function(RetrieveStoreAndCategory)],\n",
    "      function_call={'name': 'RetrieveStoreAndCategory'},\n",
    "      temperature=0,\n",
    "      max_tokens=256\n",
    "    )\n",
    "    args = json.loads(response_routing[\"choices\"][0][\"message\"][\"function_call\"][\"arguments\"])\n",
    "    function_content = search_store(**args)\n",
    "    \n",
    "    messages = [{\"role\": \"system\", \"content\": system_message_assistant}, \n",
    "                {\"role\": \"user\", \"content\": query},\n",
    "                {\"role\": \"function\", \"name\": \"search_store\", \"content\": function_content}]\n",
    "    \n",
    "    # assistant\n",
    "    response_assistant = openai.ChatCompletion.create(\n",
    "      model=\"gpt-4-0613\",\n",
    "      messages=messages,\n",
    "      temperature=.7,\n",
    "      max_tokens=500  \n",
    "    )\n",
    "    \n",
    "    display(HTML(f\"<p><strong>CHATBOT:</strong> {response_assistant['choices'][0]['message']['content']}</p>\"))"
   ]
  },
  {
   "cell_type": "markdown",
   "metadata": {},
   "source": [
    "#### Offers alternatives if a store is not available."
   ]
  },
  {
   "cell_type": "code",
   "execution_count": 111,
   "metadata": {},
   "outputs": [
    {
     "data": {
      "text/html": [
       "<p><strong>CHATBOT:</strong> I'm sorry but we don't have a Uniqlo store in our mall. However, we do have other similar stores that you might like:\n",
       "\n",
       "<ul>\n",
       "<li><b>Bench:</b> Located on the ground floor. They currently have an end of season sale with up to 50% off! 🎉</li>\n",
       "<li><b>H&M:</b> Also on the ground floor. They're offering 20% off on selected denim. 👖</li>\n",
       "<li><b>Penshoppe:</b> Located on the ground floor. They have a promo where if you buy 2 shirts, you get 1 free! 👕</li>\n",
       "</ul>\n",
       "\n",
       "I hope this helps! Enjoy your shopping! 🛍️</p>"
      ],
      "text/plain": [
       "<IPython.core.display.HTML object>"
      ]
     },
     "metadata": {},
     "output_type": "display_data"
    }
   ],
   "source": [
    "chat(\"where can i find uniqlo?\")"
   ]
  },
  {
   "cell_type": "code",
   "execution_count": 112,
   "metadata": {},
   "outputs": [
    {
     "data": {
      "text/html": [
       "<p><strong>CHATBOT:</strong> Sure, we do have <b>Ace Hardware</b>! Here are the details:\n",
       "\n",
       "- 📍 Location: <b>3rd Floor</b>\n",
       "- 🎉 Promos: <b>10% off</b> on selected items\n",
       "\n",
       "Enjoy shopping! 😊</p>"
      ],
      "text/plain": [
       "<IPython.core.display.HTML object>"
      ]
     },
     "metadata": {},
     "output_type": "display_data"
    }
   ],
   "source": [
    "chat(\"do you have an ace hardware?\")"
   ]
  },
  {
   "cell_type": "code",
   "execution_count": 113,
   "metadata": {},
   "outputs": [
    {
     "data": {
      "text/html": [
       "<p><strong>CHATBOT:</strong> Surely, we have a variety of food places to choose from. Here's a list of some:\n",
       "\n",
       "<ul>\n",
       "    <li><b>Fat Fook</b> 🥟🍜</li>\n",
       "    <ul>\n",
       "        <li>Location: Ground Floor</li>\n",
       "        <li>Promos: Free dimsum for meal worth Php500</li>\n",
       "    </ul>\n",
       "    <li><b>Jollibee</b> 🍔🍗</li>\n",
       "    <ul>\n",
       "        <li>Location: Ground Floor</li>\n",
       "        <li>Promos: Free drink with any combo meal</li>\n",
       "    </ul>\n",
       "    <li><b>McDonald's</b> 🍟🍦</li>\n",
       "    <ul>\n",
       "        <li>Location: Ground Floor</li>\n",
       "        <li>Promos: Free apple pie for orders over Php500</li>\n",
       "    </ul>\n",
       "</ul>\n",
       "\n",
       "Enjoy your meal! 🍽️</p>"
      ],
      "text/plain": [
       "<IPython.core.display.HTML object>"
      ]
     },
     "metadata": {},
     "output_type": "display_data"
    }
   ],
   "source": [
    "chat(\"where to eat?\")"
   ]
  },
  {
   "cell_type": "code",
   "execution_count": 114,
   "metadata": {},
   "outputs": [
    {
     "data": {
      "text/html": [
       "<p><strong>CHATBOT:</strong> I'm sorry, but it seems we don't have a specific Chinese restaurant in our mall. However, we have some other great options you might like. Here are some alternatives:\n",
       "\n",
       "- <b>Fat Fook</b> 🥟🍜\n",
       "  - Location: Ground Floor\n",
       "  - Promos: Free dimsum for a meal worth Php500\n",
       "\n",
       "- <b>Jollibee</b> 🍗🍝\n",
       "  - Location: Ground Floor\n",
       "  - Promos: Free drink with any combo meal\n",
       "\n",
       "- <b>McDonald's</b> 🍔🍟\n",
       "  - Location: Ground Floor\n",
       "  - Promos: Free apple pie for orders over Php500 \n",
       "\n",
       "Enjoy your meal! 🍽️</p>"
      ],
      "text/plain": [
       "<IPython.core.display.HTML object>"
      ]
     },
     "metadata": {},
     "output_type": "display_data"
    }
   ],
   "source": [
    "chat(\"im craving some chinese\")"
   ]
  },
  {
   "cell_type": "markdown",
   "metadata": {},
   "source": [
    "#### Multilingual"
   ]
  },
  {
   "cell_type": "code",
   "execution_count": 118,
   "metadata": {},
   "outputs": [
    {
     "data": {
      "text/html": [
       "<p><strong>CHATBOT:</strong> Sure, here are the stores where you can buy clothes:\n",
       "\n",
       "- <b>Bench</b> 📍Location: Ground Floor 🛍️Promos: End of season sale - up to 50% off\n",
       "- <b>H&M</b> 📍Location: Ground Floor 🛍️Promos: 20% off on selected denim\n",
       "- <b>Penshoppe</b> 📍Location: Ground Floor 🛍️Promos: Buy 2 shirts, get 1 free\n",
       "\n",
       "Happy Shopping! 🛍️🙂</p>"
      ],
      "text/plain": [
       "<IPython.core.display.HTML object>"
      ]
     },
     "metadata": {},
     "output_type": "display_data"
    }
   ],
   "source": [
    "chat(\"san pwede bumili ng damit?\")"
   ]
  },
  {
   "cell_type": "code",
   "execution_count": 116,
   "metadata": {},
   "outputs": [
    {
     "data": {
      "text/html": [
       "<p><strong>CHATBOT:</strong> Sure, you can buy something for your kids at Toys R Us. Here are the details:\n",
       "\n",
       "<b>Toys R Us:</b>\n",
       "<ul>\n",
       "<li><b>Location:</b> 5th floor 📍</li>\n",
       "<li><b>Current Promos:</b> 15% off on board games 🎲</li>\n",
       "</ul>\n",
       "\n",
       "Enjoy shopping! 🛍️</p>"
      ],
      "text/plain": [
       "<IPython.core.display.HTML object>"
      ]
     },
     "metadata": {},
     "output_type": "display_data"
    }
   ],
   "source": [
    "chat(\"where can I buy something for my kids?\")"
   ]
  },
  {
   "cell_type": "code",
   "execution_count": 120,
   "metadata": {},
   "outputs": [
    {
     "data": {
      "text/html": [
       "<p><strong>CHATBOT:</strong> Sure, meron tayong Adidas store dito sa GO Shopping Mall. Narito ang detalye:\n",
       "<ul>\n",
       "  <li><b>Name:</b> Adidas 👟</li>\n",
       "  <li><b>Location:</b> 2nd floor</li>\n",
       "  <li><b>Promos:</b> Buy 1 get 1 on selected shoes 🎁</li>\n",
       "</ul>\n",
       "\n",
       "Enjoy shopping!</p>"
      ],
      "text/plain": [
       "<IPython.core.display.HTML object>"
      ]
     },
     "metadata": {},
     "output_type": "display_data"
    }
   ],
   "source": [
    "chat(\"meron ba dito Adidas?\")"
   ]
  }
 ],
 "metadata": {
  "kernelspec": {
   "display_name": ".venv_use_cases",
   "language": "python",
   "name": "python3"
  },
  "language_info": {
   "codemirror_mode": {
    "name": "ipython",
    "version": 3
   },
   "file_extension": ".py",
   "mimetype": "text/x-python",
   "name": "python",
   "nbconvert_exporter": "python",
   "pygments_lexer": "ipython3",
   "version": "3.10.12"
  }
 },
 "nbformat": 4,
 "nbformat_minor": 2
}
